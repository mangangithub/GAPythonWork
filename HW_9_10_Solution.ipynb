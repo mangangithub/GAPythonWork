{
 "cells": [
  {
   "cell_type": "markdown",
   "metadata": {},
   "source": [
    "# Homework 9 & 10\n",
    "\n",
    "## --> Part 1 - Geo Cody\n",
    "- Skill you're practicing: Importing and using modules/packages.\n",
    "\n",
    "Cody and his friends Heather and Matt are going on a road trip across the Western United States and Canada. \n",
    "\n",
    "They want to visit several landmarks, national parks, and big cities. Here's their agenda:\n",
    "-  Space Needle\n",
    "-  Crater Lake\n",
    "-  Golden Gate Bridge\n",
    "-  Yosemite National Park\n",
    "-  Las Vegas, Nevada\n",
    "-  Grand Canyon National Park\n",
    "-  Aspen, Colorado\n",
    "-  Mount Rushmore\n",
    "-  Yellowstone National Park\n",
    "-  Sandpoint, Idaho\n",
    "-  Banff National Park\n",
    "-  Capilano Suspension Bridge\n",
    "  \n",
    "Your job is to put these destinations into a list of strings called destinations . Then, import the geocoder module and use it to translate each of the landmarks into latitude-longitude coordinates. You'll need to loop through the list and print each location's latitude and longitude. We will be using arcgis to translate the places to coordinates. Visit the docs for more sample code.\n"
   ]
  },
  {
   "cell_type": "code",
   "execution_count": 57,
   "metadata": {},
   "outputs": [],
   "source": [
    "#import sys\n",
    "#!{sys.executable} -m pip install geocoder"
   ]
  },
  {
   "cell_type": "code",
   "execution_count": 58,
   "metadata": {},
   "outputs": [
    {
     "name": "stdout",
     "output_type": "stream",
     "text": [
      "[42.91161000000005, -122.14828999999997]\n"
     ]
    }
   ],
   "source": [
    "#Sample Code ( geocoder / arcgis )\n",
    "\n",
    "import geocoder\n",
    "\n",
    "g = geocoder.arcgis('Crater Lake')\n",
    "print(g.latlng) # latlng is a tuple with a length of 2.\n",
    "\n",
    "#Starter Code\n",
    "#import geocoder\n",
    "\n",
    "# Declare destinations list here.\n",
    "\n",
    "# Loop through each destination.\n",
    "#  for point in destinations:\n",
    "# Get the lat-long coordinates from `geocoder.arcgis`.\n",
    "# Print out the place name and the coordinates.\n",
    "\n",
    "#Expected Output\n",
    "#  Space Needle is located at (47.6205, -122.3493)\n",
    "#  Crater Lake is located at (42.8684, -122.1685)\n",
    "#  Golden Gate Bridge is located at (37.8199, -122.4783) Yosemite National Park is located at (37.8651, -119.5383) Las Vegas, Nevada is located at (36.1699, -115.1398)\n",
    "#  Grand Canyon National Park is located at (36.1070, -112.1130)\n",
    "#  Aspen, Colorado is located at (39.1911, -106.8175)\n",
    "#  Mount Rushmore is located at (43.8791, -103.4591) Yellowstone National Park is located at (44.4280, -110.5885) Sandpoint, Idaho is located at (48.2766, -116.5535)\n",
    "#  Banff National Park is located at (51.4968, -115.9281) Capilano Suspension Bridge is located at (49.3429, -123.1149)\n",
    "\n",
    "#Hint: We're following the pattern in the geonames example in the docs, only replacing geonames with "
   ]
  },
  {
   "cell_type": "code",
   "execution_count": 59,
   "metadata": {},
   "outputs": [
    {
     "name": "stdout",
     "output_type": "stream",
     "text": [
      "Space Needle is located at: (47.62021004443408, -122.3492799561429)\n",
      "Crater Lake is located at: (42.91161000000005, -122.14828999999997)\n",
      "Golden Gate Bridge is located at: (37.81827004226968, -122.47842004385704)\n",
      "Yosemite National Park is located at: (37.748950000000036, -119.58848999999998)\n",
      "Las Vegas, Nevada is located at: (36.17193000000003, -115.14000999999996)\n",
      "Grand Canyon National Park is located at: (36.05726000000004, -112.10962999999998)\n",
      "Aspen, Colorado is located at: (39.19002000000006, -106.81817999999998)\n",
      "Mount Rushmore is located at: (43.88027000000005, -103.45879999999994)\n",
      "Yellowstone National Park is located at: (44.97754000000003, -110.69834999999995)\n",
      "Sandpoint, Idaho is located at: (48.27295000000004, -116.54780999999997)\n",
      "Banff National Park is located at: (51.178029948929584, -115.57079994056231)\n",
      "Capilano Suspension Bridge is located at: (49.34319999942312, -123.11326006001453)\n"
     ]
    }
   ],
   "source": [
    "import geocoder\n",
    "\n",
    "def get_latlong_coordinates(destination):\n",
    "    g = geocoder.arcgis(destination)\n",
    "    return tuple(g.latlng)\n",
    "\n",
    "def print_dest_and_latlong_coordinates(destination, coords):\n",
    "    print(f\"{destination} is located at: {coords}\")    \n",
    "    \n",
    "destinationsList = ['Space Needle',\n",
    "'Crater Lake',\n",
    "'Golden Gate Bridge',\n",
    "'Yosemite National Park',\n",
    "'Las Vegas, Nevada',\n",
    "'Grand Canyon National Park',\n",
    "'Aspen, Colorado',\n",
    "'Mount Rushmore',\n",
    "'Yellowstone National Park',\n",
    "'Sandpoint, Idaho',\n",
    "'Banff National Park',\n",
    "'Capilano Suspension Bridge']\n",
    "\n",
    "for destination in destinationsList:\n",
    "    coords = get_latlong_coordinates(destination)\n",
    "    print_dest_and_latlong_coordinates(destination, coords)"
   ]
  },
  {
   "cell_type": "markdown",
   "metadata": {},
   "source": [
    "## --> Part 2 - Heather Weather\n",
    "\n",
    "-Skill you're practicing: Calling an API.\n",
    "\n",
    "Cody is satisfied by geolocating his landmarks, but Heather wants to take it one step further and get the current weather at each location. Help Heather with some code that calls an API to get current weather based on latitude-longitude coordinates. Take Cody's code from Problem 1 and add an API call to Dark Sky API.\n",
    "\n",
    "Note: You will need to register an email address to get an API key, but it is free to use.\n",
    "\n",
    "Directions for Dark Sky API\n",
    "- When you first log in to the Dark Sky API site, you will see your personal API key, as well as an example of how to use that key to make a call to the API with latitude and longitude coordinates. You can click on this sample call to see what it returns.\n",
    "- The data is in a form called JSON , which is basically a big object. You can see in your web browser what that object looks like. Unless� you have a JSON prettify plug-in, it will probably look like a huge mess of data and curly braces. That's OK! Most importantly, the data� we are getting includes a field called currently , which includes subfields summary and temperature , which together give us a� pretty good idea of how we should dress for the weather.\n",
    "\n",
    "Calling an API\n",
    "\n",
    "We'll be using the requests module to call the Dark Sky API. Make sure to import requests at the top of your program. Starter Code"
   ]
  },
  {
   "cell_type": "code",
   "execution_count": 66,
   "metadata": {},
   "outputs": [
    {
     "name": "stdout",
     "output_type": "stream",
     "text": [
      "Space Needle is located at: (47.62021004443408, -122.3492799561429)\n",
      "At Space Needle right now, it's Partly Cloudy with a temperature of 48.9° F\n",
      "\n",
      "Crater Lake is located at: (42.91161000000005, -122.14828999999997)\n",
      "At Crater Lake right now, it's Mostly Cloudy with a temperature of 30.7° F\n",
      "\n",
      "Golden Gate Bridge is located at: (37.81827004226968, -122.47842004385704)\n",
      "At Golden Gate Bridge right now, it's Partly Cloudy with a temperature of 56.7° F\n",
      "\n",
      "Yosemite National Park is located at: (37.748950000000036, -119.58848999999998)\n",
      "At Yosemite National Park right now, it's Partly Cloudy with a temperature of 52.6° F\n",
      "\n",
      "Las Vegas, Nevada is located at: (36.17193000000003, -115.14000999999996)\n",
      "At Las Vegas, Nevada right now, it's Clear with a temperature of 62.5° F\n",
      "\n",
      "Grand Canyon National Park is located at: (36.05726000000004, -112.10962999999998)\n",
      "At Grand Canyon National Park right now, it's Clear with a temperature of 41.2° F\n",
      "\n",
      "Aspen, Colorado is located at: (39.19002000000006, -106.81817999999998)\n",
      "At Aspen, Colorado right now, it's Mostly Cloudy with a temperature of 29.9° F\n",
      "\n",
      "Mount Rushmore is located at: (43.88027000000005, -103.45879999999994)\n",
      "At Mount Rushmore right now, it's Mostly Cloudy with a temperature of 35.2° F\n",
      "\n",
      "Yellowstone National Park is located at: (44.97754000000003, -110.69834999999995)\n",
      "At Yellowstone National Park right now, it's Mostly Cloudy with a temperature of 35.3° F\n",
      "\n",
      "Sandpoint, Idaho is located at: (48.27295000000004, -116.54780999999997)\n",
      "At Sandpoint, Idaho right now, it's Drizzle with a temperature of 41.2° F\n",
      "\n",
      "Banff National Park is located at: (51.178029948929584, -115.57079994056231)\n",
      "At Banff National Park right now, it's Mostly Cloudy with a temperature of 34.0° F\n",
      "\n",
      "Capilano Suspension Bridge is located at: (49.34319999942312, -123.11326006001453)\n",
      "At Capilano Suspension Bridge right now, it's Mostly Cloudy with a temperature of 45.5° F\n",
      "\n"
     ]
    }
   ],
   "source": [
    "#Your secret key grants you access to the Dark Sky API. You must supply the secret in all API requests.\n",
    "#7e5d6f40a68018d2c5dbc3fe0d79d4f5\n",
    "#Documentation:  https://darksky.net/dev/docs\n",
    "#Sample Call to Dark Sky API:  https://api.darksky.net/forecast/7e5d6f40a68018d2c5dbc3fe0d79d4f5/37.8267,-122.4233\n",
    "#*******************************************\n",
    "import geocoder\n",
    "import urllib, json\n",
    "\n",
    "def get_latlong_coordinates(destination):\n",
    "    g = geocoder.arcgis(destination)\n",
    "    return tuple(g.latlng)\n",
    "\n",
    "def print_dest_and_latlong_coordinates(destination, coords):\n",
    "    print(f\"{destination} is located at: {coords}\")    \n",
    "    \n",
    "def get_weather_at_latlong_coordinates(destination, WeatherProviderURL, coords):\n",
    "    response = urllib.request.urlopen(f\"{WeatherProviderURL}{coords[0]},{coords[1]}\")\n",
    "    wdata = json.loads(response.read())\n",
    "    print(f\"At {destination} right now, it's {wdata['currently']['summary']} \"\n",
    "          f\"with a temperature of {wdata['currently']['temperature']:.1f}\\u00b0 F\\n\")  \n",
    "\n",
    "DarkSkyBaseURLWithKey = 'https://api.darksky.net/forecast/7e5d6f40a68018d2c5dbc3fe0d79d4f5/'    \n",
    "    \n",
    "destinationsList = ['Space Needle',\n",
    "'Crater Lake',\n",
    "'Golden Gate Bridge',\n",
    "'Yosemite National Park',\n",
    "'Las Vegas, Nevada',\n",
    "'Grand Canyon National Park',\n",
    "'Aspen, Colorado',\n",
    "'Mount Rushmore',\n",
    "'Yellowstone National Park',\n",
    "'Sandpoint, Idaho',\n",
    "'Banff National Park',\n",
    "'Capilano Suspension Bridge']\n",
    "\n",
    "for destination in destinationsList:\n",
    "    coords = get_latlong_coordinates(destination)\n",
    "    print_dest_and_latlong_coordinates(destination, coords)\n",
    "    get_weather_at_latlong_coordinates(destination, DarkSkyBaseURLWithKey, coords)\n"
   ]
  },
  {
   "cell_type": "code",
   "execution_count": null,
   "metadata": {},
   "outputs": [],
   "source": []
  }
 ],
 "metadata": {
  "kernelspec": {
   "display_name": "Python 3",
   "language": "python",
   "name": "python3"
  },
  "language_info": {
   "codemirror_mode": {
    "name": "ipython",
    "version": 3
   },
   "file_extension": ".py",
   "mimetype": "text/x-python",
   "name": "python",
   "nbconvert_exporter": "python",
   "pygments_lexer": "ipython3",
   "version": "3.7.4"
  }
 },
 "nbformat": 4,
 "nbformat_minor": 2
}
