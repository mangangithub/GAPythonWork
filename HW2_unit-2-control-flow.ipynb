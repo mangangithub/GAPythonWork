{
 "cells": [
  {
   "cell_type": "markdown",
   "metadata": {},
   "source": [
    "# HW2_unit-2-control-flow "
   ]
  },
  {
   "cell_type": "markdown",
   "metadata": {},
   "source": [
    "Problem 1: IOU!\n",
    "Skill you're practicing: Writing for loops to iterate over a list.\n",
    "You have a list of Disney characters and you want to find out if each of them contain i, o, or u in their names. Loop through each character in the list and print out the following:\n",
    "If the name contains a \"u,\" print out the name plus \"U are so Uniquely U!\" Otherwise if the name contains an \"i,\" print out the name plus \"I bet you're Impressively Intelligent!\"\n",
    "Otherwise if the name contains an \"o,\" print out the name plus \"O My! How Original!\"\n",
    "Otherwise, print the name plus \"Ehh, a's and e's are so ordinary.\""
   ]
  },
  {
   "cell_type": "code",
   "execution_count": null,
   "metadata": {},
   "outputs": [],
   "source": [
    "# python problem1a.py"
   ]
  },
  {
   "cell_type": "code",
   "execution_count": 2,
   "metadata": {},
   "outputs": [],
   "source": [
    "disney_characters = [\"simba\", \"ariel\", \"pumba\", \"flounder\", \"nala\", \"ursula\", \"scar\", \"flotsam\", \"timon\"]"
   ]
  },
  {
   "cell_type": "code",
   "execution_count": 3,
   "metadata": {},
   "outputs": [
    {
     "name": "stdout",
     "output_type": "stream",
     "text": [
      "Simba - I bet you're Impressively Intelligent!\n",
      "Ariel - Ehh, a's and e's are so ordinary.\n",
      "Pumba - U are so Uniquely U!\n",
      "Flounder - O My! How Original!\n",
      "Nala - Ehh, a's and e's are so ordinary.\n",
      "Ursula - U are so Uniquely U!\n",
      "Scar - Ehh, a's and e's are so ordinary.\n",
      "Flotsam - O My! How Original!\n",
      "Timon - I bet you're Impressively Intelligent!\n"
     ]
    }
   ],
   "source": [
    "for character in disney_characters:\n",
    "    for letter in character:\n",
    "        if letter in ['a','e','i','o','u']:\n",
    "            if letter == 'u':\n",
    "                print(f\"{character.title()} - U are so Uniquely U!\")\n",
    "                break\n",
    "            elif letter == 'i':\n",
    "                print(f\"{character.title()} - I bet you're Impressively Intelligent!\")\n",
    "                break\n",
    "            elif letter == 'o':\n",
    "                print(f\"{character.title()} - O My! How Original!\")  \n",
    "                break\n",
    "            else:\n",
    "                print(f\"{character.title()} - Ehh, a's and e's are so ordinary.\")\n",
    "                break\n"
   ]
  },
  {
   "cell_type": "code",
   "execution_count": null,
   "metadata": {},
   "outputs": [],
   "source": [
    "# python problem2a.py"
   ]
  },
  {
   "cell_type": "markdown",
   "metadata": {},
   "source": [
    "Problem 2: If You're Cold, Sit in a Corner. It's 90 Degrees!  Wow! It's 90 degrees Fahrenheit and you are sweating buckets! Luckily you have air conditioning, but it's really old and kind of finicky. It cools the room by three degrees and shuts off, so you have to keep turning it back on until the temperature gets to where you want it to be. Seventy five sounds much more pleasant than 90, so that's what you're shooting for.\n",
    "\n",
    "While the temperature is greater than 75 degrees Fahrenheit, print \"The temperature is XX — crank the AC!\" and subtract 3 degrees from the temperature.Once th  e temperature is cool enough and the loop is done, print \"75. Ahh, that's better.\""
   ]
  },
  {
   "cell_type": "code",
   "execution_count": 6,
   "metadata": {},
   "outputs": [
    {
     "name": "stdout",
     "output_type": "stream",
     "text": [
      "The temperature is 90 — crank the AC!\n",
      "The temperature is 87 — crank the AC!\n",
      "The temperature is 84 — crank the AC!\n",
      "The temperature is 81 — crank the AC!\n",
      "The temperature is 78 — crank the AC!\n",
      "75. Ahh, that's better.\n"
     ]
    }
   ],
   "source": [
    "temperature = 90\n",
    "ideal_temp = 75\n",
    "\n",
    "while temperature != ideal_temp:\n",
    "    print(f\"The temperature is {temperature} — crank the AC!\")\n",
    "    temperature -= 3\n",
    "    \n",
    "print(f\"{temperature}. Ahh, that's better.\")    "
   ]
  },
  {
   "cell_type": "markdown",
   "metadata": {},
   "source": [
    "#answers.txt\n",
    "\n",
    "#Reading Material Questions\n",
    "#1. What is a nested loop?\n",
    "     Answer:  A loop within a loop.\n",
    "\n",
    "#2. Which kind of loop is based on a conditional statement: while loops or for loops?\n",
    "     Answer:  while loop\n",
    "     \n",
    "#3. When you want to iterate a specific number of times, would you typically use a while loop or a for loop?\n",
    "     Answer:  for loop\n",
    "     \n",
    "#4. Is it possible to loop through a string one letter at a time? What is the example given in the article?\n",
    "     Answer:  Yes - for letter in sammy:\n",
    "     \n",
    "#5. Extrapolate from what you learned in the articles: Do you think a for loop be nested inside a while loop? \n",
    "    Why or why not?\n",
    "     Answer:  Yes, depending on the requirements. \n",
    "     "
   ]
  },
  {
   "cell_type": "code",
   "execution_count": null,
   "metadata": {},
   "outputs": [],
   "source": []
  }
 ],
 "metadata": {
  "kernelspec": {
   "display_name": "Python 3",
   "language": "python",
   "name": "python3"
  },
  "language_info": {
   "codemirror_mode": {
    "name": "ipython",
    "version": 3
   },
   "file_extension": ".py",
   "mimetype": "text/x-python",
   "name": "python",
   "nbconvert_exporter": "python",
   "pygments_lexer": "ipython3",
   "version": "3.7.4"
  }
 },
 "nbformat": 4,
 "nbformat_minor": 2
}
